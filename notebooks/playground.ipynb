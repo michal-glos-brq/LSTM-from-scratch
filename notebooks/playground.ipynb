{
 "cells": [
  {
   "cell_type": "code",
   "execution_count": 12,
   "id": "3e8b88ca-74ca-4002-bf62-aa06bd4804d2",
   "metadata": {},
   "outputs": [],
   "source": [
    "import sys\n",
    "import torch\n",
    "sys.path.insert(0, 'src/')\n",
    "import matplotlib.pyplot as plt\n",
    "from datasets.amznDS import AmazonDataset\n",
    "from datasets.tripAdvisorDS import TripAdvisorDataset"
   ]
  },
  {
   "cell_type": "code",
   "execution_count": 13,
   "id": "3abdfea1-ff14-4634-9ddc-f08b51987e60",
   "metadata": {},
   "outputs": [
    {
     "name": "stderr",
     "output_type": "stream",
     "text": [
      "[nltk_data] Downloading package punkt to /home/mglos/nltk_data...\n",
      "[nltk_data]   Package punkt is already up-to-date!\n",
      "Reading ...: 100%|██████████████████████████████████████████████████████████████| 10000/10000 [00:02<00:00, 4132.27it/s]\n"
     ]
    },
    {
     "name": "stdout",
     "output_type": "stream",
     "text": [
      "Loaded 10000 entries of data.\n"
     ]
    },
    {
     "name": "stderr",
     "output_type": "stream",
     "text": [
      "Embedding dataset ...: 100%|████████████████████████████████████████████████████| 10000/10000 [00:05<00:00, 1765.55it/s]\n",
      "Preparing dataset ...: 100%|██████████| 10000/10000 [00:00<00:00, 158531.67it/s]"
     ]
    },
    {
     "name": "stdout",
     "output_type": "stream",
     "text": [
      "A ration of 0.8:0.1:0.1 was requested on dataset of len 10000.\n",
      "The X component was loaded - train: 8000; test: 1000; eval: 1000.\n",
      "The y component was loaded - train: 8000; test: 1000; eval: 1000.\n"
     ]
    },
    {
     "name": "stderr",
     "output_type": "stream",
     "text": [
      "\n"
     ]
    }
   ],
   "source": [
    "ds1 = TripAdvisorDataset(\"data\", \"cpu\", torch_type=torch.float32, entries=10000, balanced=False)"
   ]
  },
  {
   "cell_type": "code",
   "execution_count": 14,
   "id": "5e5f165d-1b1e-41fc-98b4-9bfda594d8a7",
   "metadata": {},
   "outputs": [
    {
     "name": "stderr",
     "output_type": "stream",
     "text": [
      "[nltk_data] Downloading package punkt to /home/mglos/nltk_data...\n",
      "[nltk_data]   Package punkt is already up-to-date!\n",
      "Reading data/Magazine_Subscriptions.json.gz ...: 10002it [00:03, 2871.24it/s]                                           \n",
      "[nltk_data] Downloading package punkt to /home/mglos/nltk_data...\n",
      "[nltk_data]   Package punkt is already up-to-date!\n",
      "Reading data/Gift_Cards.json.gz ...: 0it [00:00, ?it/s]\n",
      "Embedding dataset ...: 100%|████████████████████████████████████████████████████| 10000/10000 [00:02<00:00, 4792.54it/s]\n",
      "Preparing dataset ...: 100%|███████████| 10000/10000 [00:00<00:00, 32494.24it/s]"
     ]
    },
    {
     "name": "stdout",
     "output_type": "stream",
     "text": [
      "A ration of 0.8:0.1:0.1 was requested on dataset of len 10000.\n",
      "The X component was loaded - train: 8000; test: 1000; eval: 1000.\n",
      "The y component was loaded - train: 8000; test: 1000; eval: 1000.\n"
     ]
    },
    {
     "name": "stderr",
     "output_type": "stream",
     "text": [
      "\n"
     ]
    }
   ],
   "source": [
    "ds2 = AmazonDataset(\"data\", verified=True, device='cpu', torch_type=torch.float32, entries=10000, balanced=False)"
   ]
  },
  {
   "cell_type": "code",
   "execution_count": 15,
   "id": "5eae997c",
   "metadata": {},
   "outputs": [],
   "source": [
    "yyy1 = [int(_y.item()) for _y in ds1.train_data.y]\n",
    "yyy2 = [int(_y.item()) for _y in ds2.train_data.y]"
   ]
  },
  {
   "cell_type": "code",
   "execution_count": 16,
   "id": "0800fa46-58a3-43eb-92e8-da67e3db653c",
   "metadata": {},
   "outputs": [
    {
     "data": {
      "text/plain": [
       "(array([0.12675 , 0.06675 , 0.080625, 0.1575  , 0.568375]),\n",
       " array([0.5, 1.5, 2.5, 3.5, 4.5, 5.5]),\n",
       " <BarContainer object of 5 artists>)"
      ]
     },
     "execution_count": 16,
     "metadata": {},
     "output_type": "execute_result"
    },
    {
     "data": {
      "image/png": "[encoded data removed]",
      "text/plain": [
       "<Figure size 1600x700 with 2 Axes>"
      ]
     },
     "metadata": {},
     "output_type": "display_data"
    }
   ],
   "source": [
    "f, (a1, a2) = plt.subplots(1,2, figsize=(16,7))\n",
    "a1.hist(yyy1, bins=[0.5, 1.5, 2.5, 3.5, 4.5, 5.5], density=True)\n",
    "a2.hist(yyy2, bins=[0.5, 1.5, 2.5, 3.5, 4.5, 5.5], density=True)"
   ]
  },
  {
   "cell_type": "code",
   "execution_count": 17,
   "id": "ad4b8ec4",
   "metadata": {},
   "outputs": [
    {
     "data": {
      "text/plain": [
       "50264531"
      ]
     },
     "execution_count": 17,
     "metadata": {},
     "output_type": "execute_result"
    }
   ],
   "source": [
    "50264531"
   ]
  },
  {
   "cell_type": "code",
   "execution_count": null,
   "id": "a64b7831-783e-4a52-a8a8-c26f57c9ede1",
   "metadata": {},
   "outputs": [],
   "source": []
  }
 ],
 "metadata": {
  "kernelspec": {
   "display_name": "Python 3 (ipykernel)",
   "language": "python",
   "name": "python3"
  },
  "language_info": {
   "codemirror_mode": {
    "name": "ipython",
    "version": 3
   },
   "file_extension": ".py",
   "mimetype": "text/x-python",
   "name": "python",
   "nbconvert_exporter": "python",
   "pygments_lexer": "ipython3",
   "version": "3.8.0"
  }
 },
 "nbformat": 4,
 "nbformat_minor": 5
}
